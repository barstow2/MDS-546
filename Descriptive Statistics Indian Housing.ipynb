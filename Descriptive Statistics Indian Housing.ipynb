{
 "cells": [
  {
   "cell_type": "markdown",
   "id": "6f91f85a-a825-49cc-b969-b3ecbf1de4c9",
   "metadata": {},
   "source": [
    "# Basic Decriptive Statistics on Indian Housing Dataset"
   ]
  },
  {
   "cell_type": "markdown",
   "id": "3fb2f1f1-ea84-48e2-9c79-00a32d440558",
   "metadata": {},
   "source": [
    "## Prompt:\n",
    "Using any tool you wish, prepare a summary of basic descriptive statistics for each column of the dataset."
   ]
  },
  {
   "cell_type": "markdown",
   "id": "f6991cb6-0fdb-4a8d-9906-de9934163897",
   "metadata": {},
   "source": [
    "## Set up the environment"
   ]
  },
  {
   "cell_type": "code",
   "execution_count": 1,
   "id": "a2fc9e21-9ebc-48cd-a2cb-54d293b0e858",
   "metadata": {},
   "outputs": [],
   "source": [
    "import pandas as pd\n",
    "import numpy as np"
   ]
  },
  {
   "cell_type": "markdown",
   "id": "2dd7bde7-5324-4f64-9c89-8a6aa4470c90",
   "metadata": {},
   "source": [
    "## Import the data"
   ]
  },
  {
   "cell_type": "code",
   "execution_count": 2,
   "id": "20733ebf-c265-4cbc-bc63-1ff22fbee4c6",
   "metadata": {},
   "outputs": [],
   "source": [
    "data = pd.read_csv(\"C:\\\\Users\\\\d_bar\\\\Desktop\\\\Modified Indian Housing Data.csv\")"
   ]
  },
  {
   "cell_type": "code",
   "execution_count": 3,
   "id": "e37f2ae3-c00f-4664-a126-0073c30309f3",
   "metadata": {},
   "outputs": [
    {
     "data": {
      "text/html": [
       "<div>\n",
       "<style scoped>\n",
       "    .dataframe tbody tr th:only-of-type {\n",
       "        vertical-align: middle;\n",
       "    }\n",
       "\n",
       "    .dataframe tbody tr th {\n",
       "        vertical-align: top;\n",
       "    }\n",
       "\n",
       "    .dataframe thead th {\n",
       "        text-align: right;\n",
       "    }\n",
       "</style>\n",
       "<table border=\"1\" class=\"dataframe\">\n",
       "  <thead>\n",
       "    <tr style=\"text-align: right;\">\n",
       "      <th></th>\n",
       "      <th>Posted On</th>\n",
       "      <th>BHK</th>\n",
       "      <th>Rent</th>\n",
       "      <th>Size</th>\n",
       "      <th>Area Type</th>\n",
       "      <th>Area Locality</th>\n",
       "      <th>City</th>\n",
       "      <th>Furnishing Status</th>\n",
       "      <th>Tenant Preferred</th>\n",
       "      <th>Bathrooms</th>\n",
       "      <th>Point of Contact</th>\n",
       "      <th>Floor</th>\n",
       "      <th>Total Floors</th>\n",
       "    </tr>\n",
       "  </thead>\n",
       "  <tbody>\n",
       "    <tr>\n",
       "      <th>0</th>\n",
       "      <td>29-Apr-22</td>\n",
       "      <td>2</td>\n",
       "      <td>12000</td>\n",
       "      <td>900</td>\n",
       "      <td>Carpet Area</td>\n",
       "      <td>Adambakkam</td>\n",
       "      <td>Chennai</td>\n",
       "      <td>Semi-Furnished</td>\n",
       "      <td>Bachelors/Family</td>\n",
       "      <td>2</td>\n",
       "      <td>Contact Owner</td>\n",
       "      <td>1</td>\n",
       "      <td>2.0</td>\n",
       "    </tr>\n",
       "    <tr>\n",
       "      <th>1</th>\n",
       "      <td>29-May-22</td>\n",
       "      <td>2</td>\n",
       "      <td>15000</td>\n",
       "      <td>800</td>\n",
       "      <td>Carpet Area</td>\n",
       "      <td>Adambakkam</td>\n",
       "      <td>Chennai</td>\n",
       "      <td>Unfurnished</td>\n",
       "      <td>Bachelors/Family</td>\n",
       "      <td>2</td>\n",
       "      <td>Contact Owner</td>\n",
       "      <td>1</td>\n",
       "      <td>2.0</td>\n",
       "    </tr>\n",
       "    <tr>\n",
       "      <th>2</th>\n",
       "      <td>7-Jul-22</td>\n",
       "      <td>2</td>\n",
       "      <td>7500</td>\n",
       "      <td>700</td>\n",
       "      <td>Super Area</td>\n",
       "      <td>Alapakkam, Porur</td>\n",
       "      <td>Chennai</td>\n",
       "      <td>Unfurnished</td>\n",
       "      <td>Bachelors/Family</td>\n",
       "      <td>2</td>\n",
       "      <td>Contact Owner</td>\n",
       "      <td>1</td>\n",
       "      <td>2.0</td>\n",
       "    </tr>\n",
       "    <tr>\n",
       "      <th>3</th>\n",
       "      <td>6-Jul-22</td>\n",
       "      <td>2</td>\n",
       "      <td>9500</td>\n",
       "      <td>900</td>\n",
       "      <td>Super Area</td>\n",
       "      <td>Ambattur</td>\n",
       "      <td>Chennai</td>\n",
       "      <td>Unfurnished</td>\n",
       "      <td>Bachelors/Family</td>\n",
       "      <td>2</td>\n",
       "      <td>Contact Owner</td>\n",
       "      <td>1</td>\n",
       "      <td>2.0</td>\n",
       "    </tr>\n",
       "    <tr>\n",
       "      <th>4</th>\n",
       "      <td>20-May-22</td>\n",
       "      <td>2</td>\n",
       "      <td>9000</td>\n",
       "      <td>745</td>\n",
       "      <td>Super Area</td>\n",
       "      <td>Ambattur</td>\n",
       "      <td>Chennai</td>\n",
       "      <td>Semi-Furnished</td>\n",
       "      <td>Bachelors/Family</td>\n",
       "      <td>2</td>\n",
       "      <td>Contact Owner</td>\n",
       "      <td>1</td>\n",
       "      <td>2.0</td>\n",
       "    </tr>\n",
       "    <tr>\n",
       "      <th>5</th>\n",
       "      <td>17-Jun-22</td>\n",
       "      <td>2</td>\n",
       "      <td>9500</td>\n",
       "      <td>800</td>\n",
       "      <td>Carpet Area</td>\n",
       "      <td>Ask Nagar, Adambakkam</td>\n",
       "      <td>Chennai</td>\n",
       "      <td>Semi-Furnished</td>\n",
       "      <td>Bachelors/Family</td>\n",
       "      <td>2</td>\n",
       "      <td>Contact Owner</td>\n",
       "      <td>1</td>\n",
       "      <td>2.0</td>\n",
       "    </tr>\n",
       "    <tr>\n",
       "      <th>6</th>\n",
       "      <td>26-May-22</td>\n",
       "      <td>2</td>\n",
       "      <td>10000</td>\n",
       "      <td>1030</td>\n",
       "      <td>Carpet Area</td>\n",
       "      <td>Camp Road</td>\n",
       "      <td>Chennai</td>\n",
       "      <td>Semi-Furnished</td>\n",
       "      <td>Bachelors/Family</td>\n",
       "      <td>2</td>\n",
       "      <td>Contact Owner</td>\n",
       "      <td>1</td>\n",
       "      <td>2.0</td>\n",
       "    </tr>\n",
       "    <tr>\n",
       "      <th>7</th>\n",
       "      <td>10-Jun-22</td>\n",
       "      <td>2</td>\n",
       "      <td>9000</td>\n",
       "      <td>740</td>\n",
       "      <td>Super Area</td>\n",
       "      <td>Chitlapakkam</td>\n",
       "      <td>Chennai</td>\n",
       "      <td>Unfurnished</td>\n",
       "      <td>Family</td>\n",
       "      <td>2</td>\n",
       "      <td>Contact Owner</td>\n",
       "      <td>1</td>\n",
       "      <td>2.0</td>\n",
       "    </tr>\n",
       "    <tr>\n",
       "      <th>8</th>\n",
       "      <td>20-May-22</td>\n",
       "      <td>2</td>\n",
       "      <td>8000</td>\n",
       "      <td>850</td>\n",
       "      <td>Super Area</td>\n",
       "      <td>Chitlapakkam</td>\n",
       "      <td>Chennai</td>\n",
       "      <td>Unfurnished</td>\n",
       "      <td>Bachelors/Family</td>\n",
       "      <td>2</td>\n",
       "      <td>Contact Owner</td>\n",
       "      <td>1</td>\n",
       "      <td>2.0</td>\n",
       "    </tr>\n",
       "    <tr>\n",
       "      <th>9</th>\n",
       "      <td>14-May-22</td>\n",
       "      <td>2</td>\n",
       "      <td>23000</td>\n",
       "      <td>850</td>\n",
       "      <td>Carpet Area</td>\n",
       "      <td>Choolaimedu</td>\n",
       "      <td>Chennai</td>\n",
       "      <td>Furnished</td>\n",
       "      <td>Bachelors/Family</td>\n",
       "      <td>2</td>\n",
       "      <td>Contact Owner</td>\n",
       "      <td>1</td>\n",
       "      <td>2.0</td>\n",
       "    </tr>\n",
       "  </tbody>\n",
       "</table>\n",
       "</div>"
      ],
      "text/plain": [
       "   Posted On  BHK   Rent  Size    Area Type          Area Locality     City  \\\n",
       "0  29-Apr-22    2  12000   900  Carpet Area             Adambakkam  Chennai   \n",
       "1  29-May-22    2  15000   800  Carpet Area             Adambakkam  Chennai   \n",
       "2   7-Jul-22    2   7500   700   Super Area       Alapakkam, Porur  Chennai   \n",
       "3   6-Jul-22    2   9500   900   Super Area               Ambattur  Chennai   \n",
       "4  20-May-22    2   9000   745   Super Area               Ambattur  Chennai   \n",
       "5  17-Jun-22    2   9500   800  Carpet Area  Ask Nagar, Adambakkam  Chennai   \n",
       "6  26-May-22    2  10000  1030  Carpet Area              Camp Road  Chennai   \n",
       "7  10-Jun-22    2   9000   740   Super Area           Chitlapakkam  Chennai   \n",
       "8  20-May-22    2   8000   850   Super Area           Chitlapakkam  Chennai   \n",
       "9  14-May-22    2  23000   850  Carpet Area            Choolaimedu  Chennai   \n",
       "\n",
       "  Furnishing Status  Tenant Preferred  Bathrooms Point of Contact  Floor  \\\n",
       "0    Semi-Furnished  Bachelors/Family          2    Contact Owner      1   \n",
       "1       Unfurnished  Bachelors/Family          2    Contact Owner      1   \n",
       "2       Unfurnished  Bachelors/Family          2    Contact Owner      1   \n",
       "3       Unfurnished  Bachelors/Family          2    Contact Owner      1   \n",
       "4    Semi-Furnished  Bachelors/Family          2    Contact Owner      1   \n",
       "5    Semi-Furnished  Bachelors/Family          2    Contact Owner      1   \n",
       "6    Semi-Furnished  Bachelors/Family          2    Contact Owner      1   \n",
       "7       Unfurnished            Family          2    Contact Owner      1   \n",
       "8       Unfurnished  Bachelors/Family          2    Contact Owner      1   \n",
       "9         Furnished  Bachelors/Family          2    Contact Owner      1   \n",
       "\n",
       "   Total Floors  \n",
       "0           2.0  \n",
       "1           2.0  \n",
       "2           2.0  \n",
       "3           2.0  \n",
       "4           2.0  \n",
       "5           2.0  \n",
       "6           2.0  \n",
       "7           2.0  \n",
       "8           2.0  \n",
       "9           2.0  "
      ]
     },
     "execution_count": 3,
     "metadata": {},
     "output_type": "execute_result"
    }
   ],
   "source": [
    "data.head(10)"
   ]
  },
  {
   "cell_type": "code",
   "execution_count": 4,
   "id": "8e5ba662-1926-4fce-b350-3167fe04ea1a",
   "metadata": {},
   "outputs": [
    {
     "data": {
      "text/html": [
       "<div>\n",
       "<style scoped>\n",
       "    .dataframe tbody tr th:only-of-type {\n",
       "        vertical-align: middle;\n",
       "    }\n",
       "\n",
       "    .dataframe tbody tr th {\n",
       "        vertical-align: top;\n",
       "    }\n",
       "\n",
       "    .dataframe thead th {\n",
       "        text-align: right;\n",
       "    }\n",
       "</style>\n",
       "<table border=\"1\" class=\"dataframe\">\n",
       "  <thead>\n",
       "    <tr style=\"text-align: right;\">\n",
       "      <th></th>\n",
       "      <th>Posted On</th>\n",
       "      <th>BHK</th>\n",
       "      <th>Rent</th>\n",
       "      <th>Size</th>\n",
       "      <th>Area Type</th>\n",
       "      <th>Area Locality</th>\n",
       "      <th>City</th>\n",
       "      <th>Furnishing Status</th>\n",
       "      <th>Tenant Preferred</th>\n",
       "      <th>Bathrooms</th>\n",
       "      <th>Point of Contact</th>\n",
       "      <th>Floor</th>\n",
       "      <th>Total Floors</th>\n",
       "    </tr>\n",
       "  </thead>\n",
       "  <tbody>\n",
       "    <tr>\n",
       "      <th>4736</th>\n",
       "      <td>20-Jun-22</td>\n",
       "      <td>2</td>\n",
       "      <td>8000</td>\n",
       "      <td>623</td>\n",
       "      <td>Carpet Area</td>\n",
       "      <td>Shreenath nagar, Morya Nagar</td>\n",
       "      <td>Mumbai</td>\n",
       "      <td>Unfurnished</td>\n",
       "      <td>Family</td>\n",
       "      <td>2</td>\n",
       "      <td>Contact Agent</td>\n",
       "      <td>6</td>\n",
       "      <td>7.0</td>\n",
       "    </tr>\n",
       "    <tr>\n",
       "      <th>4737</th>\n",
       "      <td>31-May-22</td>\n",
       "      <td>2</td>\n",
       "      <td>60000</td>\n",
       "      <td>720</td>\n",
       "      <td>Carpet Area</td>\n",
       "      <td>Sindhi Society Chembur</td>\n",
       "      <td>Mumbai</td>\n",
       "      <td>Unfurnished</td>\n",
       "      <td>Bachelors/Family</td>\n",
       "      <td>2</td>\n",
       "      <td>Contact Agent</td>\n",
       "      <td>4</td>\n",
       "      <td>7.0</td>\n",
       "    </tr>\n",
       "    <tr>\n",
       "      <th>4738</th>\n",
       "      <td>12-Jun-22</td>\n",
       "      <td>2</td>\n",
       "      <td>40000</td>\n",
       "      <td>575</td>\n",
       "      <td>Carpet Area</td>\n",
       "      <td>Sunglow, Chandivali</td>\n",
       "      <td>Mumbai</td>\n",
       "      <td>Semi-Furnished</td>\n",
       "      <td>Bachelors/Family</td>\n",
       "      <td>2</td>\n",
       "      <td>Contact Agent</td>\n",
       "      <td>4</td>\n",
       "      <td>7.0</td>\n",
       "    </tr>\n",
       "    <tr>\n",
       "      <th>4739</th>\n",
       "      <td>17-May-22</td>\n",
       "      <td>2</td>\n",
       "      <td>35000</td>\n",
       "      <td>650</td>\n",
       "      <td>Carpet Area</td>\n",
       "      <td>Thakur Village, Kandivali East</td>\n",
       "      <td>Mumbai</td>\n",
       "      <td>Semi-Furnished</td>\n",
       "      <td>Bachelors/Family</td>\n",
       "      <td>2</td>\n",
       "      <td>Contact Agent</td>\n",
       "      <td>5</td>\n",
       "      <td>7.0</td>\n",
       "    </tr>\n",
       "    <tr>\n",
       "      <th>4740</th>\n",
       "      <td>14-Jun-22</td>\n",
       "      <td>2</td>\n",
       "      <td>46000</td>\n",
       "      <td>680</td>\n",
       "      <td>Carpet Area</td>\n",
       "      <td>Trans Residency, Andheri East</td>\n",
       "      <td>Mumbai</td>\n",
       "      <td>Semi-Furnished</td>\n",
       "      <td>Bachelors/Family</td>\n",
       "      <td>2</td>\n",
       "      <td>Contact Agent</td>\n",
       "      <td>4</td>\n",
       "      <td>7.0</td>\n",
       "    </tr>\n",
       "    <tr>\n",
       "      <th>4741</th>\n",
       "      <td>6-Jul-22</td>\n",
       "      <td>2</td>\n",
       "      <td>39000</td>\n",
       "      <td>630</td>\n",
       "      <td>Carpet Area</td>\n",
       "      <td>Yashodham Complex, Goregaon East</td>\n",
       "      <td>Mumbai</td>\n",
       "      <td>Unfurnished</td>\n",
       "      <td>Family</td>\n",
       "      <td>2</td>\n",
       "      <td>Contact Agent</td>\n",
       "      <td>6</td>\n",
       "      <td>7.0</td>\n",
       "    </tr>\n",
       "    <tr>\n",
       "      <th>4742</th>\n",
       "      <td>13-May-22</td>\n",
       "      <td>2</td>\n",
       "      <td>33500</td>\n",
       "      <td>700</td>\n",
       "      <td>Carpet Area</td>\n",
       "      <td>Yogi Hills, Mulund West</td>\n",
       "      <td>Mumbai</td>\n",
       "      <td>Semi-Furnished</td>\n",
       "      <td>Bachelors/Family</td>\n",
       "      <td>2</td>\n",
       "      <td>Contact Agent</td>\n",
       "      <td>4</td>\n",
       "      <td>7.0</td>\n",
       "    </tr>\n",
       "    <tr>\n",
       "      <th>4743</th>\n",
       "      <td>30-Jun-22</td>\n",
       "      <td>2</td>\n",
       "      <td>85000</td>\n",
       "      <td>850</td>\n",
       "      <td>Carpet Area</td>\n",
       "      <td>Andheri West</td>\n",
       "      <td>Mumbai</td>\n",
       "      <td>Unfurnished</td>\n",
       "      <td>Bachelors/Family</td>\n",
       "      <td>2</td>\n",
       "      <td>Contact Agent</td>\n",
       "      <td>4</td>\n",
       "      <td>6.0</td>\n",
       "    </tr>\n",
       "    <tr>\n",
       "      <th>4744</th>\n",
       "      <td>4-Jun-22</td>\n",
       "      <td>2</td>\n",
       "      <td>35000</td>\n",
       "      <td>650</td>\n",
       "      <td>Carpet Area</td>\n",
       "      <td>Thakur Complex</td>\n",
       "      <td>Mumbai</td>\n",
       "      <td>Semi-Furnished</td>\n",
       "      <td>Family</td>\n",
       "      <td>2</td>\n",
       "      <td>Contact Agent</td>\n",
       "      <td>5</td>\n",
       "      <td>6.0</td>\n",
       "    </tr>\n",
       "    <tr>\n",
       "      <th>4745</th>\n",
       "      <td>4-Jun-22</td>\n",
       "      <td>2</td>\n",
       "      <td>90000</td>\n",
       "      <td>800</td>\n",
       "      <td>Carpet Area</td>\n",
       "      <td>Vile Parle West</td>\n",
       "      <td>Mumbai</td>\n",
       "      <td>Furnished</td>\n",
       "      <td>Family</td>\n",
       "      <td>2</td>\n",
       "      <td>Contact Agent</td>\n",
       "      <td>5</td>\n",
       "      <td>6.0</td>\n",
       "    </tr>\n",
       "  </tbody>\n",
       "</table>\n",
       "</div>"
      ],
      "text/plain": [
       "      Posted On  BHK   Rent  Size    Area Type  \\\n",
       "4736  20-Jun-22    2   8000   623  Carpet Area   \n",
       "4737  31-May-22    2  60000   720  Carpet Area   \n",
       "4738  12-Jun-22    2  40000   575  Carpet Area   \n",
       "4739  17-May-22    2  35000   650  Carpet Area   \n",
       "4740  14-Jun-22    2  46000   680  Carpet Area   \n",
       "4741   6-Jul-22    2  39000   630  Carpet Area   \n",
       "4742  13-May-22    2  33500   700  Carpet Area   \n",
       "4743  30-Jun-22    2  85000   850  Carpet Area   \n",
       "4744   4-Jun-22    2  35000   650  Carpet Area   \n",
       "4745   4-Jun-22    2  90000   800  Carpet Area   \n",
       "\n",
       "                         Area Locality    City Furnishing Status  \\\n",
       "4736      Shreenath nagar, Morya Nagar  Mumbai       Unfurnished   \n",
       "4737            Sindhi Society Chembur  Mumbai       Unfurnished   \n",
       "4738               Sunglow, Chandivali  Mumbai    Semi-Furnished   \n",
       "4739    Thakur Village, Kandivali East  Mumbai    Semi-Furnished   \n",
       "4740     Trans Residency, Andheri East  Mumbai    Semi-Furnished   \n",
       "4741  Yashodham Complex, Goregaon East  Mumbai       Unfurnished   \n",
       "4742           Yogi Hills, Mulund West  Mumbai    Semi-Furnished   \n",
       "4743                      Andheri West  Mumbai       Unfurnished   \n",
       "4744                    Thakur Complex  Mumbai    Semi-Furnished   \n",
       "4745                   Vile Parle West  Mumbai         Furnished   \n",
       "\n",
       "      Tenant Preferred  Bathrooms Point of Contact  Floor  Total Floors  \n",
       "4736            Family          2    Contact Agent      6           7.0  \n",
       "4737  Bachelors/Family          2    Contact Agent      4           7.0  \n",
       "4738  Bachelors/Family          2    Contact Agent      4           7.0  \n",
       "4739  Bachelors/Family          2    Contact Agent      5           7.0  \n",
       "4740  Bachelors/Family          2    Contact Agent      4           7.0  \n",
       "4741            Family          2    Contact Agent      6           7.0  \n",
       "4742  Bachelors/Family          2    Contact Agent      4           7.0  \n",
       "4743  Bachelors/Family          2    Contact Agent      4           6.0  \n",
       "4744            Family          2    Contact Agent      5           6.0  \n",
       "4745            Family          2    Contact Agent      5           6.0  "
      ]
     },
     "execution_count": 4,
     "metadata": {},
     "output_type": "execute_result"
    }
   ],
   "source": [
    "data.tail(10)"
   ]
  },
  {
   "cell_type": "markdown",
   "id": "60a4778a-80c7-475b-98c8-5e5a645f4be8",
   "metadata": {},
   "source": [
    "## Deal with missing data"
   ]
  },
  {
   "cell_type": "code",
   "execution_count": 5,
   "id": "08550225-c89e-4765-8527-f52efac9cfb2",
   "metadata": {},
   "outputs": [
    {
     "data": {
      "text/plain": [
       "Posted On            0\n",
       "BHK                  0\n",
       "Rent                 0\n",
       "Size                 0\n",
       "Area Type            0\n",
       "Area Locality        0\n",
       "City                 0\n",
       "Furnishing Status    0\n",
       "Tenant Preferred     0\n",
       "Bathrooms            0\n",
       "Point of Contact     0\n",
       "Floor                0\n",
       "Total Floors         4\n",
       "dtype: int64"
      ]
     },
     "execution_count": 5,
     "metadata": {},
     "output_type": "execute_result"
    }
   ],
   "source": [
    "data.isna().sum()"
   ]
  },
  {
   "cell_type": "markdown",
   "id": "79fb574d-141c-4701-90c2-b91321ff4fd9",
   "metadata": {},
   "source": [
    "We see 4 missing values for `Total Floors`.  This is likely because the string \"out of\" was not present in the original floor column.  We have 2 options to deal with this:\n",
    "- Delete the 4 records with the missing values for `Total Floors`\n",
    "- Impute the missing values with the `Floor` since we know there are at least that many floors.\n"
   ]
  },
  {
   "cell_type": "markdown",
   "id": "21db2172-4ea3-4523-969d-0761cf549f9c",
   "metadata": {},
   "source": [
    "We'll impute the missing data."
   ]
  },
  {
   "cell_type": "code",
   "execution_count": 6,
   "id": "afd25566-0e73-48e4-bf67-510eada5760f",
   "metadata": {},
   "outputs": [],
   "source": [
    "data['Total Floors'].fillna(data['Floor'], inplace=True)"
   ]
  },
  {
   "cell_type": "code",
   "execution_count": 7,
   "id": "daed642d-1c49-4371-98a2-38d1149cf693",
   "metadata": {},
   "outputs": [
    {
     "data": {
      "text/plain": [
       "Posted On            0\n",
       "BHK                  0\n",
       "Rent                 0\n",
       "Size                 0\n",
       "Area Type            0\n",
       "Area Locality        0\n",
       "City                 0\n",
       "Furnishing Status    0\n",
       "Tenant Preferred     0\n",
       "Bathrooms            0\n",
       "Point of Contact     0\n",
       "Floor                0\n",
       "Total Floors         0\n",
       "dtype: int64"
      ]
     },
     "execution_count": 7,
     "metadata": {},
     "output_type": "execute_result"
    }
   ],
   "source": [
    "data.isna().sum()"
   ]
  },
  {
   "cell_type": "markdown",
   "id": "de30e0b9-8d1d-48a4-95aa-76b136625a34",
   "metadata": {
    "tags": []
   },
   "source": [
    "## Change datatypes"
   ]
  },
  {
   "cell_type": "code",
   "execution_count": 8,
   "id": "5d5509a4-decd-4647-81f0-9286b3d2deed",
   "metadata": {},
   "outputs": [
    {
     "data": {
      "text/plain": [
       "Posted On             object\n",
       "BHK                    int64\n",
       "Rent                   int64\n",
       "Size                   int64\n",
       "Area Type             object\n",
       "Area Locality         object\n",
       "City                  object\n",
       "Furnishing Status     object\n",
       "Tenant Preferred      object\n",
       "Bathrooms              int64\n",
       "Point of Contact      object\n",
       "Floor                  int64\n",
       "Total Floors         float64\n",
       "dtype: object"
      ]
     },
     "execution_count": 8,
     "metadata": {},
     "output_type": "execute_result"
    }
   ],
   "source": [
    "data.dtypes"
   ]
  },
  {
   "cell_type": "markdown",
   "id": "d62e704f-3d78-4e1f-bfd1-0478de5c536c",
   "metadata": {},
   "source": [
    "We notice that the `Total Floors` column is a float, lets change that to an int."
   ]
  },
  {
   "cell_type": "code",
   "execution_count": 9,
   "id": "673841ad-b1b7-4503-8617-687dee54dc0b",
   "metadata": {},
   "outputs": [],
   "source": [
    "data['Total Floors'] = data['Total Floors'].astype(np.int64)"
   ]
  },
  {
   "cell_type": "code",
   "execution_count": 10,
   "id": "ab066886-26a7-4e7f-aa56-a53f2ad9a708",
   "metadata": {},
   "outputs": [
    {
     "data": {
      "text/plain": [
       "Posted On            object\n",
       "BHK                   int64\n",
       "Rent                  int64\n",
       "Size                  int64\n",
       "Area Type            object\n",
       "Area Locality        object\n",
       "City                 object\n",
       "Furnishing Status    object\n",
       "Tenant Preferred     object\n",
       "Bathrooms             int64\n",
       "Point of Contact     object\n",
       "Floor                 int64\n",
       "Total Floors          int64\n",
       "dtype: object"
      ]
     },
     "execution_count": 10,
     "metadata": {},
     "output_type": "execute_result"
    }
   ],
   "source": [
    "data.dtypes"
   ]
  },
  {
   "cell_type": "markdown",
   "id": "2340a8f6-c6b8-4b3d-ac6c-37979c88faae",
   "metadata": {},
   "source": [
    "Let's change `Posted On` to be a datetime object."
   ]
  },
  {
   "cell_type": "code",
   "execution_count": 11,
   "id": "b902d164-9bf4-47d1-990b-a28127231bfd",
   "metadata": {},
   "outputs": [],
   "source": [
    "data['Posted On'] = pd.to_datetime(data['Posted On'])"
   ]
  },
  {
   "cell_type": "code",
   "execution_count": 12,
   "id": "46559d4e-7056-426e-b5c9-c92fdfeabe70",
   "metadata": {},
   "outputs": [
    {
     "data": {
      "text/plain": [
       "Posted On            datetime64[ns]\n",
       "BHK                           int64\n",
       "Rent                          int64\n",
       "Size                          int64\n",
       "Area Type                    object\n",
       "Area Locality                object\n",
       "City                         object\n",
       "Furnishing Status            object\n",
       "Tenant Preferred             object\n",
       "Bathrooms                     int64\n",
       "Point of Contact             object\n",
       "Floor                         int64\n",
       "Total Floors                  int64\n",
       "dtype: object"
      ]
     },
     "execution_count": 12,
     "metadata": {},
     "output_type": "execute_result"
    }
   ],
   "source": [
    "data.dtypes"
   ]
  },
  {
   "cell_type": "markdown",
   "id": "62d429af-8a17-4db1-9f91-61bc7df7a248",
   "metadata": {},
   "source": [
    "## Basic Descriptive Statistics"
   ]
  },
  {
   "cell_type": "code",
   "execution_count": 16,
   "id": "88cd9a0f-a9c0-4f3c-a500-42de9839a76d",
   "metadata": {},
   "outputs": [
    {
     "data": {
      "text/html": [
       "<div>\n",
       "<style scoped>\n",
       "    .dataframe tbody tr th:only-of-type {\n",
       "        vertical-align: middle;\n",
       "    }\n",
       "\n",
       "    .dataframe tbody tr th {\n",
       "        vertical-align: top;\n",
       "    }\n",
       "\n",
       "    .dataframe thead th {\n",
       "        text-align: right;\n",
       "    }\n",
       "</style>\n",
       "<table border=\"1\" class=\"dataframe\">\n",
       "  <thead>\n",
       "    <tr style=\"text-align: right;\">\n",
       "      <th></th>\n",
       "      <th>count</th>\n",
       "      <th>mean</th>\n",
       "      <th>std</th>\n",
       "      <th>min</th>\n",
       "      <th>25%</th>\n",
       "      <th>50%</th>\n",
       "      <th>75%</th>\n",
       "      <th>max</th>\n",
       "    </tr>\n",
       "  </thead>\n",
       "  <tbody>\n",
       "    <tr>\n",
       "      <th>BHK</th>\n",
       "      <td>4746.0</td>\n",
       "      <td>2.083860</td>\n",
       "      <td>0.832256</td>\n",
       "      <td>1.0</td>\n",
       "      <td>2.0</td>\n",
       "      <td>2.0</td>\n",
       "      <td>3.0</td>\n",
       "      <td>6.0</td>\n",
       "    </tr>\n",
       "    <tr>\n",
       "      <th>Rent</th>\n",
       "      <td>4746.0</td>\n",
       "      <td>34993.451327</td>\n",
       "      <td>78106.412937</td>\n",
       "      <td>1200.0</td>\n",
       "      <td>10000.0</td>\n",
       "      <td>16000.0</td>\n",
       "      <td>33000.0</td>\n",
       "      <td>3500000.0</td>\n",
       "    </tr>\n",
       "    <tr>\n",
       "      <th>Size</th>\n",
       "      <td>4746.0</td>\n",
       "      <td>967.490729</td>\n",
       "      <td>634.202328</td>\n",
       "      <td>10.0</td>\n",
       "      <td>550.0</td>\n",
       "      <td>850.0</td>\n",
       "      <td>1200.0</td>\n",
       "      <td>8000.0</td>\n",
       "    </tr>\n",
       "    <tr>\n",
       "      <th>Bathrooms</th>\n",
       "      <td>4746.0</td>\n",
       "      <td>1.965866</td>\n",
       "      <td>0.884532</td>\n",
       "      <td>1.0</td>\n",
       "      <td>1.0</td>\n",
       "      <td>2.0</td>\n",
       "      <td>2.0</td>\n",
       "      <td>10.0</td>\n",
       "    </tr>\n",
       "    <tr>\n",
       "      <th>Floor</th>\n",
       "      <td>4746.0</td>\n",
       "      <td>3.436157</td>\n",
       "      <td>5.773950</td>\n",
       "      <td>-2.0</td>\n",
       "      <td>1.0</td>\n",
       "      <td>2.0</td>\n",
       "      <td>3.0</td>\n",
       "      <td>76.0</td>\n",
       "    </tr>\n",
       "    <tr>\n",
       "      <th>Total Floors</th>\n",
       "      <td>4746.0</td>\n",
       "      <td>6.968605</td>\n",
       "      <td>9.467245</td>\n",
       "      <td>0.0</td>\n",
       "      <td>2.0</td>\n",
       "      <td>4.0</td>\n",
       "      <td>6.0</td>\n",
       "      <td>89.0</td>\n",
       "    </tr>\n",
       "  </tbody>\n",
       "</table>\n",
       "</div>"
      ],
      "text/plain": [
       "               count          mean           std     min      25%      50%  \\\n",
       "BHK           4746.0      2.083860      0.832256     1.0      2.0      2.0   \n",
       "Rent          4746.0  34993.451327  78106.412937  1200.0  10000.0  16000.0   \n",
       "Size          4746.0    967.490729    634.202328    10.0    550.0    850.0   \n",
       "Bathrooms     4746.0      1.965866      0.884532     1.0      1.0      2.0   \n",
       "Floor         4746.0      3.436157      5.773950    -2.0      1.0      2.0   \n",
       "Total Floors  4746.0      6.968605      9.467245     0.0      2.0      4.0   \n",
       "\n",
       "                  75%        max  \n",
       "BHK               3.0        6.0  \n",
       "Rent          33000.0  3500000.0  \n",
       "Size           1200.0     8000.0  \n",
       "Bathrooms         2.0       10.0  \n",
       "Floor             3.0       76.0  \n",
       "Total Floors      6.0       89.0  "
      ]
     },
     "execution_count": 16,
     "metadata": {},
     "output_type": "execute_result"
    }
   ],
   "source": [
    "data.describe().T"
   ]
  },
  {
   "cell_type": "markdown",
   "id": "44ae5dbb-14e0-426e-9836-fe9819001554",
   "metadata": {},
   "source": [
    "- Every housing option has at least 1 bed, hall, and kitchen, but the most is 6.\n",
    "- The cheapest `Rent` is 1200 and the highest is 3,500,000.\n",
    "- The smallest `Size` is 550 sqft. and the largest is 8000 sqft.\n",
    "- Every housing option has at least 1 bathroom and the most is 10 bathrooms.\n",
    "- The `Floor` ranges from Lower Basement (-2) all the way up to 76.\n",
    "- `Total Floors` ranges from the Ground Floor (0) all the way up to 89. "
   ]
  },
  {
   "cell_type": "markdown",
   "id": "fade9f50-3d57-41dc-abed-37a95f56800f",
   "metadata": {},
   "source": [
    "How do the medians compare with the means?"
   ]
  },
  {
   "cell_type": "code",
   "execution_count": 19,
   "id": "9c313f17-8b98-47df-a79a-25bf86aa9bbc",
   "metadata": {},
   "outputs": [
    {
     "name": "stderr",
     "output_type": "stream",
     "text": [
      "C:\\Users\\d_bar\\AppData\\Local\\Temp/ipykernel_8516/4184645713.py:1: FutureWarning: DataFrame.mean and DataFrame.median with numeric_only=None will include datetime64 and datetime64tz columns in a future version.\n",
      "  data.median()\n",
      "C:\\Users\\d_bar\\AppData\\Local\\Temp/ipykernel_8516/4184645713.py:1: FutureWarning: Dropping of nuisance columns in DataFrame reductions (with 'numeric_only=None') is deprecated; in a future version this will raise TypeError.  Select only valid columns before calling the reduction.\n",
      "  data.median()\n"
     ]
    },
    {
     "data": {
      "text/plain": [
       "BHK                 2.0\n",
       "Rent            16000.0\n",
       "Size              850.0\n",
       "Bathrooms           2.0\n",
       "Floor               2.0\n",
       "Total Floors        4.0\n",
       "dtype: float64"
      ]
     },
     "execution_count": 19,
     "metadata": {},
     "output_type": "execute_result"
    }
   ],
   "source": [
    "data.median()"
   ]
  },
  {
   "cell_type": "markdown",
   "id": "9dfe2020-3bbb-41f0-8dd8-6349cab98fec",
   "metadata": {},
   "source": [
    "We notice some discrepancies between the means and medians of the numerical columns. \n",
    "- The mean `Rent` is more than twice as large as the median, meaning that there is a positive skew.\n",
    "- The mean `Total Floors` is almost twice as large as the median, indicating a positive skew."
   ]
  },
  {
   "cell_type": "markdown",
   "id": "4a5a5874-698d-4326-a650-ee43439ce7c5",
   "metadata": {},
   "source": [
    "These positive skews indicate that there are outliers much larger than average."
   ]
  },
  {
   "cell_type": "markdown",
   "id": "9729a1b5-5b97-47e2-86f2-4c23236b2ee5",
   "metadata": {},
   "source": [
    "What about the non-numerical attributes?"
   ]
  },
  {
   "cell_type": "code",
   "execution_count": 17,
   "id": "19049a7c-9b5e-40ed-9f90-bad7de9a79e5",
   "metadata": {},
   "outputs": [
    {
     "data": {
      "text/html": [
       "<div>\n",
       "<style scoped>\n",
       "    .dataframe tbody tr th:only-of-type {\n",
       "        vertical-align: middle;\n",
       "    }\n",
       "\n",
       "    .dataframe tbody tr th {\n",
       "        vertical-align: top;\n",
       "    }\n",
       "\n",
       "    .dataframe thead th {\n",
       "        text-align: right;\n",
       "    }\n",
       "</style>\n",
       "<table border=\"1\" class=\"dataframe\">\n",
       "  <thead>\n",
       "    <tr style=\"text-align: right;\">\n",
       "      <th></th>\n",
       "      <th>count</th>\n",
       "      <th>unique</th>\n",
       "      <th>top</th>\n",
       "      <th>freq</th>\n",
       "    </tr>\n",
       "  </thead>\n",
       "  <tbody>\n",
       "    <tr>\n",
       "      <th>Area Type</th>\n",
       "      <td>4746</td>\n",
       "      <td>3</td>\n",
       "      <td>Super Area</td>\n",
       "      <td>2446</td>\n",
       "    </tr>\n",
       "    <tr>\n",
       "      <th>Area Locality</th>\n",
       "      <td>4746</td>\n",
       "      <td>2231</td>\n",
       "      <td>Bandra West</td>\n",
       "      <td>37</td>\n",
       "    </tr>\n",
       "    <tr>\n",
       "      <th>City</th>\n",
       "      <td>4746</td>\n",
       "      <td>6</td>\n",
       "      <td>Mumbai</td>\n",
       "      <td>972</td>\n",
       "    </tr>\n",
       "    <tr>\n",
       "      <th>Furnishing Status</th>\n",
       "      <td>4746</td>\n",
       "      <td>3</td>\n",
       "      <td>Semi-Furnished</td>\n",
       "      <td>2251</td>\n",
       "    </tr>\n",
       "    <tr>\n",
       "      <th>Tenant Preferred</th>\n",
       "      <td>4746</td>\n",
       "      <td>3</td>\n",
       "      <td>Bachelors/Family</td>\n",
       "      <td>3444</td>\n",
       "    </tr>\n",
       "    <tr>\n",
       "      <th>Point of Contact</th>\n",
       "      <td>4746</td>\n",
       "      <td>3</td>\n",
       "      <td>Contact Owner</td>\n",
       "      <td>3216</td>\n",
       "    </tr>\n",
       "  </tbody>\n",
       "</table>\n",
       "</div>"
      ],
      "text/plain": [
       "                  count unique               top  freq\n",
       "Area Type          4746      3        Super Area  2446\n",
       "Area Locality      4746   2231       Bandra West    37\n",
       "City               4746      6            Mumbai   972\n",
       "Furnishing Status  4746      3    Semi-Furnished  2251\n",
       "Tenant Preferred   4746      3  Bachelors/Family  3444\n",
       "Point of Contact   4746      3     Contact Owner  3216"
      ]
     },
     "execution_count": 17,
     "metadata": {},
     "output_type": "execute_result"
    }
   ],
   "source": [
    "data.describe(include='object').T"
   ]
  },
  {
   "cell_type": "markdown",
   "id": "9c20b02c-86fb-4a08-a1b6-02a170f994da",
   "metadata": {},
   "source": [
    "- It's most common for the sq. footage to be calculated in `Super Area`.\n",
    "- The most common `Area Locality` is Bandra West.\n",
    "- The most frequent `City` is Mumbai.\n",
    "- It's most common for housing to be `Semi-Furnished`.\n",
    "- Most housing has no `Tenant Preference` since either bachelors or families can apply.\n",
    "- The most common `Point of Contact` is the owner."
   ]
  },
  {
   "cell_type": "markdown",
   "id": "cec4fb7f-3f67-4310-a101-86dcdc72cfb4",
   "metadata": {},
   "source": [
    "There are many unique values for `Area Locality`."
   ]
  },
  {
   "cell_type": "markdown",
   "id": "47d598e6-f613-4216-ad6c-2ce9f23d6b25",
   "metadata": {},
   "source": [
    "What about the dates the housing options were posted?"
   ]
  },
  {
   "cell_type": "code",
   "execution_count": 18,
   "id": "20d9d027-1a6e-4cff-9012-a684f6cd46dd",
   "metadata": {},
   "outputs": [
    {
     "name": "stderr",
     "output_type": "stream",
     "text": [
      "C:\\Users\\d_bar\\AppData\\Local\\Temp/ipykernel_8516/1957862656.py:1: FutureWarning: Treating datetime data as categorical rather than numeric in `.describe` is deprecated and will be removed in a future version of pandas. Specify `datetime_is_numeric=True` to silence this warning and adopt the future behavior now.\n",
      "  data.describe(include='datetime').T\n"
     ]
    },
    {
     "data": {
      "text/html": [
       "<div>\n",
       "<style scoped>\n",
       "    .dataframe tbody tr th:only-of-type {\n",
       "        vertical-align: middle;\n",
       "    }\n",
       "\n",
       "    .dataframe tbody tr th {\n",
       "        vertical-align: top;\n",
       "    }\n",
       "\n",
       "    .dataframe thead th {\n",
       "        text-align: right;\n",
       "    }\n",
       "</style>\n",
       "<table border=\"1\" class=\"dataframe\">\n",
       "  <thead>\n",
       "    <tr style=\"text-align: right;\">\n",
       "      <th></th>\n",
       "      <th>count</th>\n",
       "      <th>unique</th>\n",
       "      <th>top</th>\n",
       "      <th>freq</th>\n",
       "      <th>first</th>\n",
       "      <th>last</th>\n",
       "    </tr>\n",
       "  </thead>\n",
       "  <tbody>\n",
       "    <tr>\n",
       "      <th>Posted On</th>\n",
       "      <td>4746</td>\n",
       "      <td>81</td>\n",
       "      <td>2022-07-06</td>\n",
       "      <td>311</td>\n",
       "      <td>2022-04-13</td>\n",
       "      <td>2022-07-11</td>\n",
       "    </tr>\n",
       "  </tbody>\n",
       "</table>\n",
       "</div>"
      ],
      "text/plain": [
       "          count unique        top freq      first       last\n",
       "Posted On  4746     81 2022-07-06  311 2022-04-13 2022-07-11"
      ]
     },
     "execution_count": 18,
     "metadata": {},
     "output_type": "execute_result"
    }
   ],
   "source": [
    "data.describe(include='datetime').T"
   ]
  },
  {
   "cell_type": "markdown",
   "id": "2685f9e9-840b-463a-9348-6ca6ad4f25a9",
   "metadata": {},
   "source": [
    "- The `Posted On`dates range from April, 2022 to July 2022 (89 days).  \n",
    "    - Since there are 81 unique values, a listing was made roughly every day.\n",
    "- The most frequent date the housing options were listed on was July 6th, 2022.\n"
   ]
  }
 ],
 "metadata": {
  "kernelspec": {
   "display_name": "Python 3 (ipykernel)",
   "language": "python",
   "name": "python3"
  },
  "language_info": {
   "codemirror_mode": {
    "name": "ipython",
    "version": 3
   },
   "file_extension": ".py",
   "mimetype": "text/x-python",
   "name": "python",
   "nbconvert_exporter": "python",
   "pygments_lexer": "ipython3",
   "version": "3.9.7"
  }
 },
 "nbformat": 4,
 "nbformat_minor": 5
}
