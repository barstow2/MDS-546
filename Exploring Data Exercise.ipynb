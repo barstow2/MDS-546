{
 "cells": [
  {
   "cell_type": "markdown",
   "id": "04a67eda-d067-451a-917c-9548edbf5242",
   "metadata": {},
   "source": [
    "# Exploring Meteorite Data Exercise"
   ]
  },
  {
   "cell_type": "markdown",
   "id": "802f31da-f06d-4783-9efb-00c6a5896892",
   "metadata": {},
   "source": [
    "### Prompt: \n",
    "Attached are data on all recorded meteorite landings on Earth - ever. Explore these data in any way you wish and submit a brief report outlining: \n",
    "1. The story these data appear, at first, to tell.\n",
    "2. Issues that these data present. \n",
    "There is no particular right answer for this exercise. This is meant to be an exploration. Have fun with it!"
   ]
  },
  {
   "cell_type": "markdown",
   "id": "ecfcf612-0fd2-495d-9c57-bdce6b1029da",
   "metadata": {
    "tags": []
   },
   "source": [
    "## Set up the Environment"
   ]
  },
  {
   "cell_type": "code",
   "execution_count": 1,
   "id": "9150d1ed-d72f-408b-a144-cff27a9e25b1",
   "metadata": {},
   "outputs": [],
   "source": [
    "import pandas as pd\n",
    "import numpy as np"
   ]
  },
  {
   "cell_type": "markdown",
   "id": "f5abbbcb-9402-4d35-9751-ddc0ec9e21ce",
   "metadata": {},
   "source": [
    "## Import the data"
   ]
  },
  {
   "cell_type": "code",
   "execution_count": 2,
   "id": "ce5485f9-d49c-4c4b-910d-8d0c22013912",
   "metadata": {},
   "outputs": [],
   "source": [
    "data = pd.read_csv(\"C:\\\\Users\\\\d_bar\\\\Desktop\\\\meteoritessize.csv\")"
   ]
  },
  {
   "cell_type": "markdown",
   "id": "a8c6df7b-5689-4ebf-ad25-bdfddceab80c",
   "metadata": {},
   "source": [
    "## Take a quick look at the data"
   ]
  },
  {
   "cell_type": "code",
   "execution_count": 3,
   "id": "08aea0de-7509-49b6-a2cb-af7ec2c652f0",
   "metadata": {},
   "outputs": [
    {
     "data": {
      "text/html": [
       "<div>\n",
       "<style scoped>\n",
       "    .dataframe tbody tr th:only-of-type {\n",
       "        vertical-align: middle;\n",
       "    }\n",
       "\n",
       "    .dataframe tbody tr th {\n",
       "        vertical-align: top;\n",
       "    }\n",
       "\n",
       "    .dataframe thead th {\n",
       "        text-align: right;\n",
       "    }\n",
       "</style>\n",
       "<table border=\"1\" class=\"dataframe\">\n",
       "  <thead>\n",
       "    <tr style=\"text-align: right;\">\n",
       "      <th></th>\n",
       "      <th>place</th>\n",
       "      <th>type_of_meteorite</th>\n",
       "      <th>mass_g</th>\n",
       "      <th>fell_found</th>\n",
       "      <th>year</th>\n",
       "      <th>database</th>\n",
       "      <th>coordinate_1</th>\n",
       "      <th>coordinates_2</th>\n",
       "      <th>cartodb_id</th>\n",
       "      <th>created_at</th>\n",
       "      <th>updated_at</th>\n",
       "      <th>the_geom</th>\n",
       "      <th>year_date</th>\n",
       "    </tr>\n",
       "  </thead>\n",
       "  <tbody>\n",
       "    <tr>\n",
       "      <th>0</th>\n",
       "      <td>Ur</td>\n",
       "      <td>Iron</td>\n",
       "      <td>0.00</td>\n",
       "      <td>Found</td>\n",
       "      <td>-2500.0</td>\n",
       "      <td>http://www.lpi.usra.edu/meteor/metbull.php?cod...</td>\n",
       "      <td>30.90000</td>\n",
       "      <td>46.01667</td>\n",
       "      <td>34242</td>\n",
       "      <td>2013-02-15 20:56:02.826333</td>\n",
       "      <td>2013-02-15 21:04:45.399478</td>\n",
       "      <td>0101000020E61000008369183E220247406666666666E6...</td>\n",
       "      <td>NaN</td>\n",
       "    </tr>\n",
       "    <tr>\n",
       "      <th>1</th>\n",
       "      <td>A-881561</td>\n",
       "      <td>H4</td>\n",
       "      <td>836.87</td>\n",
       "      <td>Found</td>\n",
       "      <td>1988.0</td>\n",
       "      <td>http://www.lpi.usra.edu/meteor/metbull.php?cod...</td>\n",
       "      <td>-72.00000</td>\n",
       "      <td>26.00000</td>\n",
       "      <td>4141</td>\n",
       "      <td>2013-02-15 20:56:02.826333</td>\n",
       "      <td>2013-02-15 21:11:51.900085</td>\n",
       "      <td>0101000020E61000000000000000003A40000000000000...</td>\n",
       "      <td>1988-01-01 00:00:00</td>\n",
       "    </tr>\n",
       "    <tr>\n",
       "      <th>2</th>\n",
       "      <td>Wietrzno-Bobrka</td>\n",
       "      <td>Iron</td>\n",
       "      <td>376.00</td>\n",
       "      <td>Found</td>\n",
       "      <td>-600.0</td>\n",
       "      <td>http://www.lpi.usra.edu/meteor/metbull.php?cod...</td>\n",
       "      <td>49.41667</td>\n",
       "      <td>21.70000</td>\n",
       "      <td>6037</td>\n",
       "      <td>2013-02-15 20:56:02.826333</td>\n",
       "      <td>2013-02-15 21:04:45.399478</td>\n",
       "      <td>0101000020E61000003333333333B33540B79C4B7155B5...</td>\n",
       "      <td>NaN</td>\n",
       "    </tr>\n",
       "    <tr>\n",
       "      <th>3</th>\n",
       "      <td>A-881448</td>\n",
       "      <td>H4</td>\n",
       "      <td>341.27</td>\n",
       "      <td>Found</td>\n",
       "      <td>1988.0</td>\n",
       "      <td>http://www.lpi.usra.edu/meteor/metbull.php?cod...</td>\n",
       "      <td>-72.00000</td>\n",
       "      <td>26.00000</td>\n",
       "      <td>6340</td>\n",
       "      <td>2013-02-15 20:56:02.826333</td>\n",
       "      <td>2013-02-15 21:11:51.900085</td>\n",
       "      <td>0101000020E61000000000000000003A40000000000000...</td>\n",
       "      <td>1988-01-01 00:00:00</td>\n",
       "    </tr>\n",
       "    <tr>\n",
       "      <th>4</th>\n",
       "      <td>A-881813</td>\n",
       "      <td>L6</td>\n",
       "      <td>296.96</td>\n",
       "      <td>Found</td>\n",
       "      <td>1988.0</td>\n",
       "      <td>http://www.lpi.usra.edu/meteor/metbull.php?cod...</td>\n",
       "      <td>-72.00000</td>\n",
       "      <td>26.00000</td>\n",
       "      <td>6753</td>\n",
       "      <td>2013-02-15 20:56:02.826333</td>\n",
       "      <td>2013-02-15 21:11:51.900085</td>\n",
       "      <td>0101000020E61000000000000000003A40000000000000...</td>\n",
       "      <td>1988-01-01 00:00:00</td>\n",
       "    </tr>\n",
       "    <tr>\n",
       "      <th>5</th>\n",
       "      <td>A-881637</td>\n",
       "      <td>L3</td>\n",
       "      <td>195.62</td>\n",
       "      <td>Found</td>\n",
       "      <td>1988.0</td>\n",
       "      <td>http://www.lpi.usra.edu/meteor/metbull.php?cod...</td>\n",
       "      <td>-72.00000</td>\n",
       "      <td>26.00000</td>\n",
       "      <td>8147</td>\n",
       "      <td>2013-02-15 20:56:02.826333</td>\n",
       "      <td>2013-02-15 21:11:51.900085</td>\n",
       "      <td>0101000020E61000000000000000003A40000000000000...</td>\n",
       "      <td>1988-01-01 00:00:00</td>\n",
       "    </tr>\n",
       "    <tr>\n",
       "      <th>6</th>\n",
       "      <td>A-881993</td>\n",
       "      <td>L6</td>\n",
       "      <td>144.89</td>\n",
       "      <td>Found</td>\n",
       "      <td>1988.0</td>\n",
       "      <td>http://www.lpi.usra.edu/meteor/metbull.php?cod...</td>\n",
       "      <td>-72.00000</td>\n",
       "      <td>26.00000</td>\n",
       "      <td>9211</td>\n",
       "      <td>2013-02-15 20:56:02.826333</td>\n",
       "      <td>2013-02-15 21:11:51.900085</td>\n",
       "      <td>0101000020E61000000000000000003A40000000000000...</td>\n",
       "      <td>1988-01-01 00:00:00</td>\n",
       "    </tr>\n",
       "    <tr>\n",
       "      <th>7</th>\n",
       "      <td>A-881363</td>\n",
       "      <td>L4</td>\n",
       "      <td>105.42</td>\n",
       "      <td>Found</td>\n",
       "      <td>1988.0</td>\n",
       "      <td>http://www.lpi.usra.edu/meteor/metbull.php?cod...</td>\n",
       "      <td>-72.00000</td>\n",
       "      <td>26.00000</td>\n",
       "      <td>10471</td>\n",
       "      <td>2013-02-15 20:56:02.826333</td>\n",
       "      <td>2013-02-15 21:11:51.900085</td>\n",
       "      <td>0101000020E61000000000000000003A40000000000000...</td>\n",
       "      <td>1988-01-01 00:00:00</td>\n",
       "    </tr>\n",
       "    <tr>\n",
       "      <th>8</th>\n",
       "      <td>A-9034</td>\n",
       "      <td>L6</td>\n",
       "      <td>75.15</td>\n",
       "      <td>Found</td>\n",
       "      <td>1990.0</td>\n",
       "      <td>http://www.lpi.usra.edu/meteor/metbull.php?cod...</td>\n",
       "      <td>-72.00000</td>\n",
       "      <td>26.00000</td>\n",
       "      <td>11885</td>\n",
       "      <td>2013-02-15 20:56:02.826333</td>\n",
       "      <td>2013-02-15 21:11:51.900085</td>\n",
       "      <td>0101000020E61000000000000000003A40000000000000...</td>\n",
       "      <td>1990-01-01 00:00:00</td>\n",
       "    </tr>\n",
       "    <tr>\n",
       "      <th>9</th>\n",
       "      <td>A-881246</td>\n",
       "      <td>H4</td>\n",
       "      <td>57.07</td>\n",
       "      <td>Found</td>\n",
       "      <td>1988.0</td>\n",
       "      <td>http://www.lpi.usra.edu/meteor/metbull.php?cod...</td>\n",
       "      <td>-72.00000</td>\n",
       "      <td>26.00000</td>\n",
       "      <td>13071</td>\n",
       "      <td>2013-02-15 20:56:02.826333</td>\n",
       "      <td>2013-02-15 21:11:51.900085</td>\n",
       "      <td>0101000020E61000000000000000003A40000000000000...</td>\n",
       "      <td>1988-01-01 00:00:00</td>\n",
       "    </tr>\n",
       "  </tbody>\n",
       "</table>\n",
       "</div>"
      ],
      "text/plain": [
       "             place type_of_meteorite  mass_g fell_found    year  \\\n",
       "0               Ur              Iron    0.00      Found -2500.0   \n",
       "1         A-881561                H4  836.87      Found  1988.0   \n",
       "2  Wietrzno-Bobrka              Iron  376.00      Found  -600.0   \n",
       "3         A-881448                H4  341.27      Found  1988.0   \n",
       "4         A-881813                L6  296.96      Found  1988.0   \n",
       "5         A-881637                L3  195.62      Found  1988.0   \n",
       "6         A-881993                L6  144.89      Found  1988.0   \n",
       "7         A-881363                L4  105.42      Found  1988.0   \n",
       "8           A-9034                L6   75.15      Found  1990.0   \n",
       "9         A-881246                H4   57.07      Found  1988.0   \n",
       "\n",
       "                                            database  coordinate_1  \\\n",
       "0  http://www.lpi.usra.edu/meteor/metbull.php?cod...      30.90000   \n",
       "1  http://www.lpi.usra.edu/meteor/metbull.php?cod...     -72.00000   \n",
       "2  http://www.lpi.usra.edu/meteor/metbull.php?cod...      49.41667   \n",
       "3  http://www.lpi.usra.edu/meteor/metbull.php?cod...     -72.00000   \n",
       "4  http://www.lpi.usra.edu/meteor/metbull.php?cod...     -72.00000   \n",
       "5  http://www.lpi.usra.edu/meteor/metbull.php?cod...     -72.00000   \n",
       "6  http://www.lpi.usra.edu/meteor/metbull.php?cod...     -72.00000   \n",
       "7  http://www.lpi.usra.edu/meteor/metbull.php?cod...     -72.00000   \n",
       "8  http://www.lpi.usra.edu/meteor/metbull.php?cod...     -72.00000   \n",
       "9  http://www.lpi.usra.edu/meteor/metbull.php?cod...     -72.00000   \n",
       "\n",
       "   coordinates_2  cartodb_id                  created_at  \\\n",
       "0       46.01667       34242  2013-02-15 20:56:02.826333   \n",
       "1       26.00000        4141  2013-02-15 20:56:02.826333   \n",
       "2       21.70000        6037  2013-02-15 20:56:02.826333   \n",
       "3       26.00000        6340  2013-02-15 20:56:02.826333   \n",
       "4       26.00000        6753  2013-02-15 20:56:02.826333   \n",
       "5       26.00000        8147  2013-02-15 20:56:02.826333   \n",
       "6       26.00000        9211  2013-02-15 20:56:02.826333   \n",
       "7       26.00000       10471  2013-02-15 20:56:02.826333   \n",
       "8       26.00000       11885  2013-02-15 20:56:02.826333   \n",
       "9       26.00000       13071  2013-02-15 20:56:02.826333   \n",
       "\n",
       "                   updated_at  \\\n",
       "0  2013-02-15 21:04:45.399478   \n",
       "1  2013-02-15 21:11:51.900085   \n",
       "2  2013-02-15 21:04:45.399478   \n",
       "3  2013-02-15 21:11:51.900085   \n",
       "4  2013-02-15 21:11:51.900085   \n",
       "5  2013-02-15 21:11:51.900085   \n",
       "6  2013-02-15 21:11:51.900085   \n",
       "7  2013-02-15 21:11:51.900085   \n",
       "8  2013-02-15 21:11:51.900085   \n",
       "9  2013-02-15 21:11:51.900085   \n",
       "\n",
       "                                            the_geom            year_date  \n",
       "0  0101000020E61000008369183E220247406666666666E6...                  NaN  \n",
       "1  0101000020E61000000000000000003A40000000000000...  1988-01-01 00:00:00  \n",
       "2  0101000020E61000003333333333B33540B79C4B7155B5...                  NaN  \n",
       "3  0101000020E61000000000000000003A40000000000000...  1988-01-01 00:00:00  \n",
       "4  0101000020E61000000000000000003A40000000000000...  1988-01-01 00:00:00  \n",
       "5  0101000020E61000000000000000003A40000000000000...  1988-01-01 00:00:00  \n",
       "6  0101000020E61000000000000000003A40000000000000...  1988-01-01 00:00:00  \n",
       "7  0101000020E61000000000000000003A40000000000000...  1988-01-01 00:00:00  \n",
       "8  0101000020E61000000000000000003A40000000000000...  1990-01-01 00:00:00  \n",
       "9  0101000020E61000000000000000003A40000000000000...  1988-01-01 00:00:00  "
      ]
     },
     "execution_count": 3,
     "metadata": {},
     "output_type": "execute_result"
    }
   ],
   "source": [
    "data.head(10)"
   ]
  },
  {
   "cell_type": "code",
   "execution_count": 4,
   "id": "f1099656-768f-47d3-8d70-c55bad67f46e",
   "metadata": {},
   "outputs": [
    {
     "data": {
      "text/html": [
       "<div>\n",
       "<style scoped>\n",
       "    .dataframe tbody tr th:only-of-type {\n",
       "        vertical-align: middle;\n",
       "    }\n",
       "\n",
       "    .dataframe tbody tr th {\n",
       "        vertical-align: top;\n",
       "    }\n",
       "\n",
       "    .dataframe thead th {\n",
       "        text-align: right;\n",
       "    }\n",
       "</style>\n",
       "<table border=\"1\" class=\"dataframe\">\n",
       "  <thead>\n",
       "    <tr style=\"text-align: right;\">\n",
       "      <th></th>\n",
       "      <th>place</th>\n",
       "      <th>type_of_meteorite</th>\n",
       "      <th>mass_g</th>\n",
       "      <th>fell_found</th>\n",
       "      <th>year</th>\n",
       "      <th>database</th>\n",
       "      <th>coordinate_1</th>\n",
       "      <th>coordinates_2</th>\n",
       "      <th>cartodb_id</th>\n",
       "      <th>created_at</th>\n",
       "      <th>updated_at</th>\n",
       "      <th>the_geom</th>\n",
       "      <th>year_date</th>\n",
       "    </tr>\n",
       "  </thead>\n",
       "  <tbody>\n",
       "    <tr>\n",
       "      <th>34503</th>\n",
       "      <td>��st 056</td>\n",
       "      <td>Relict OC</td>\n",
       "      <td>0.0</td>\n",
       "      <td>Found</td>\n",
       "      <td>2008.0</td>\n",
       "      <td>http://www.lpi.usra.edu/meteor/metbull.php?cod...</td>\n",
       "      <td>58.58333</td>\n",
       "      <td>13.43333</td>\n",
       "      <td>34475</td>\n",
       "      <td>2013-02-15 20:56:02.826333</td>\n",
       "      <td>2013-02-15 21:11:51.900085</td>\n",
       "      <td>0101000020E610000059C0046EDDDD2A404963B48EAA4A...</td>\n",
       "      <td>2008-01-01 00:00:00</td>\n",
       "    </tr>\n",
       "    <tr>\n",
       "      <th>34504</th>\n",
       "      <td>��st 057</td>\n",
       "      <td>Relict OC</td>\n",
       "      <td>0.0</td>\n",
       "      <td>Found</td>\n",
       "      <td>2009.0</td>\n",
       "      <td>http://www.lpi.usra.edu/meteor/metbull.php?cod...</td>\n",
       "      <td>58.58333</td>\n",
       "      <td>13.43333</td>\n",
       "      <td>34476</td>\n",
       "      <td>2013-02-15 20:56:02.826333</td>\n",
       "      <td>2013-02-15 21:11:51.900085</td>\n",
       "      <td>0101000020E610000059C0046EDDDD2A404963B48EAA4A...</td>\n",
       "      <td>2009-01-01 00:00:00</td>\n",
       "    </tr>\n",
       "    <tr>\n",
       "      <th>34505</th>\n",
       "      <td>��st 058</td>\n",
       "      <td>Relict OC</td>\n",
       "      <td>0.0</td>\n",
       "      <td>Found</td>\n",
       "      <td>2009.0</td>\n",
       "      <td>http://www.lpi.usra.edu/meteor/metbull.php?cod...</td>\n",
       "      <td>58.58333</td>\n",
       "      <td>13.43333</td>\n",
       "      <td>34477</td>\n",
       "      <td>2013-02-15 20:56:02.826333</td>\n",
       "      <td>2013-02-15 21:11:51.900085</td>\n",
       "      <td>0101000020E610000059C0046EDDDD2A404963B48EAA4A...</td>\n",
       "      <td>2009-01-01 00:00:00</td>\n",
       "    </tr>\n",
       "    <tr>\n",
       "      <th>34506</th>\n",
       "      <td>��st 059</td>\n",
       "      <td>Relict OC</td>\n",
       "      <td>0.0</td>\n",
       "      <td>Found</td>\n",
       "      <td>2009.0</td>\n",
       "      <td>http://www.lpi.usra.edu/meteor/metbull.php?cod...</td>\n",
       "      <td>58.58333</td>\n",
       "      <td>13.43333</td>\n",
       "      <td>34478</td>\n",
       "      <td>2013-02-15 20:56:02.826333</td>\n",
       "      <td>2013-02-15 21:11:51.900085</td>\n",
       "      <td>0101000020E610000059C0046EDDDD2A404963B48EAA4A...</td>\n",
       "      <td>2009-01-01 00:00:00</td>\n",
       "    </tr>\n",
       "    <tr>\n",
       "      <th>34507</th>\n",
       "      <td>��st 060</td>\n",
       "      <td>Relict OC</td>\n",
       "      <td>0.0</td>\n",
       "      <td>Found</td>\n",
       "      <td>2009.0</td>\n",
       "      <td>http://www.lpi.usra.edu/meteor/metbull.php?cod...</td>\n",
       "      <td>58.58333</td>\n",
       "      <td>13.43333</td>\n",
       "      <td>34479</td>\n",
       "      <td>2013-02-15 20:56:02.826333</td>\n",
       "      <td>2013-02-15 21:11:51.900085</td>\n",
       "      <td>0101000020E610000059C0046EDDDD2A404963B48EAA4A...</td>\n",
       "      <td>2009-01-01 00:00:00</td>\n",
       "    </tr>\n",
       "    <tr>\n",
       "      <th>34508</th>\n",
       "      <td>��st 061</td>\n",
       "      <td>Relict OC</td>\n",
       "      <td>0.0</td>\n",
       "      <td>Found</td>\n",
       "      <td>2009.0</td>\n",
       "      <td>http://www.lpi.usra.edu/meteor/metbull.php?cod...</td>\n",
       "      <td>58.58333</td>\n",
       "      <td>13.43333</td>\n",
       "      <td>34480</td>\n",
       "      <td>2013-02-15 20:56:02.826333</td>\n",
       "      <td>2013-02-15 21:11:51.900085</td>\n",
       "      <td>0101000020E610000059C0046EDDDD2A404963B48EAA4A...</td>\n",
       "      <td>2009-01-01 00:00:00</td>\n",
       "    </tr>\n",
       "    <tr>\n",
       "      <th>34509</th>\n",
       "      <td>��st 062</td>\n",
       "      <td>Relict OC</td>\n",
       "      <td>0.0</td>\n",
       "      <td>Found</td>\n",
       "      <td>2010.0</td>\n",
       "      <td>http://www.lpi.usra.edu/meteor/metbull.php?cod...</td>\n",
       "      <td>58.58333</td>\n",
       "      <td>13.43333</td>\n",
       "      <td>34481</td>\n",
       "      <td>2013-02-15 20:56:02.826333</td>\n",
       "      <td>2013-02-15 21:11:51.900085</td>\n",
       "      <td>0101000020E610000059C0046EDDDD2A404963B48EAA4A...</td>\n",
       "      <td>2010-01-01 00:00:00</td>\n",
       "    </tr>\n",
       "    <tr>\n",
       "      <th>34510</th>\n",
       "      <td>��st 063</td>\n",
       "      <td>Relict OC</td>\n",
       "      <td>0.0</td>\n",
       "      <td>Found</td>\n",
       "      <td>2010.0</td>\n",
       "      <td>http://www.lpi.usra.edu/meteor/metbull.php?cod...</td>\n",
       "      <td>58.58333</td>\n",
       "      <td>13.43333</td>\n",
       "      <td>34482</td>\n",
       "      <td>2013-02-15 20:56:02.826333</td>\n",
       "      <td>2013-02-15 21:11:51.900085</td>\n",
       "      <td>0101000020E610000059C0046EDDDD2A404963B48EAA4A...</td>\n",
       "      <td>2010-01-01 00:00:00</td>\n",
       "    </tr>\n",
       "    <tr>\n",
       "      <th>34511</th>\n",
       "      <td>��st 064</td>\n",
       "      <td>Relict OC</td>\n",
       "      <td>0.0</td>\n",
       "      <td>Found</td>\n",
       "      <td>2011.0</td>\n",
       "      <td>http://www.lpi.usra.edu/meteor/metbull.php?cod...</td>\n",
       "      <td>58.58333</td>\n",
       "      <td>13.43333</td>\n",
       "      <td>34483</td>\n",
       "      <td>2013-02-15 20:56:02.826333</td>\n",
       "      <td>2013-02-15 21:11:51.900085</td>\n",
       "      <td>0101000020E610000059C0046EDDDD2A404963B48EAA4A...</td>\n",
       "      <td>2011-01-01 00:00:00</td>\n",
       "    </tr>\n",
       "    <tr>\n",
       "      <th>34512</th>\n",
       "      <td>��st 049</td>\n",
       "      <td>Relict OC</td>\n",
       "      <td>0.0</td>\n",
       "      <td>Found</td>\n",
       "      <td>2012.0</td>\n",
       "      <td>http://www.lpi.usra.edu/meteor/metbull.php?cod...</td>\n",
       "      <td>58.58333</td>\n",
       "      <td>13.43333</td>\n",
       "      <td>34484</td>\n",
       "      <td>2013-02-15 20:56:02.826333</td>\n",
       "      <td>2013-02-15 21:11:51.900085</td>\n",
       "      <td>0101000020E610000059C0046EDDDD2A404963B48EAA4A...</td>\n",
       "      <td>2012-01-01 00:00:00</td>\n",
       "    </tr>\n",
       "  </tbody>\n",
       "</table>\n",
       "</div>"
      ],
      "text/plain": [
       "          place type_of_meteorite  mass_g fell_found    year  \\\n",
       "34503  ��st 056         Relict OC     0.0      Found  2008.0   \n",
       "34504  ��st 057         Relict OC     0.0      Found  2009.0   \n",
       "34505  ��st 058         Relict OC     0.0      Found  2009.0   \n",
       "34506  ��st 059         Relict OC     0.0      Found  2009.0   \n",
       "34507  ��st 060         Relict OC     0.0      Found  2009.0   \n",
       "34508  ��st 061         Relict OC     0.0      Found  2009.0   \n",
       "34509  ��st 062         Relict OC     0.0      Found  2010.0   \n",
       "34510  ��st 063         Relict OC     0.0      Found  2010.0   \n",
       "34511  ��st 064         Relict OC     0.0      Found  2011.0   \n",
       "34512  ��st 049         Relict OC     0.0      Found  2012.0   \n",
       "\n",
       "                                                database  coordinate_1  \\\n",
       "34503  http://www.lpi.usra.edu/meteor/metbull.php?cod...      58.58333   \n",
       "34504  http://www.lpi.usra.edu/meteor/metbull.php?cod...      58.58333   \n",
       "34505  http://www.lpi.usra.edu/meteor/metbull.php?cod...      58.58333   \n",
       "34506  http://www.lpi.usra.edu/meteor/metbull.php?cod...      58.58333   \n",
       "34507  http://www.lpi.usra.edu/meteor/metbull.php?cod...      58.58333   \n",
       "34508  http://www.lpi.usra.edu/meteor/metbull.php?cod...      58.58333   \n",
       "34509  http://www.lpi.usra.edu/meteor/metbull.php?cod...      58.58333   \n",
       "34510  http://www.lpi.usra.edu/meteor/metbull.php?cod...      58.58333   \n",
       "34511  http://www.lpi.usra.edu/meteor/metbull.php?cod...      58.58333   \n",
       "34512  http://www.lpi.usra.edu/meteor/metbull.php?cod...      58.58333   \n",
       "\n",
       "       coordinates_2  cartodb_id                  created_at  \\\n",
       "34503       13.43333       34475  2013-02-15 20:56:02.826333   \n",
       "34504       13.43333       34476  2013-02-15 20:56:02.826333   \n",
       "34505       13.43333       34477  2013-02-15 20:56:02.826333   \n",
       "34506       13.43333       34478  2013-02-15 20:56:02.826333   \n",
       "34507       13.43333       34479  2013-02-15 20:56:02.826333   \n",
       "34508       13.43333       34480  2013-02-15 20:56:02.826333   \n",
       "34509       13.43333       34481  2013-02-15 20:56:02.826333   \n",
       "34510       13.43333       34482  2013-02-15 20:56:02.826333   \n",
       "34511       13.43333       34483  2013-02-15 20:56:02.826333   \n",
       "34512       13.43333       34484  2013-02-15 20:56:02.826333   \n",
       "\n",
       "                       updated_at  \\\n",
       "34503  2013-02-15 21:11:51.900085   \n",
       "34504  2013-02-15 21:11:51.900085   \n",
       "34505  2013-02-15 21:11:51.900085   \n",
       "34506  2013-02-15 21:11:51.900085   \n",
       "34507  2013-02-15 21:11:51.900085   \n",
       "34508  2013-02-15 21:11:51.900085   \n",
       "34509  2013-02-15 21:11:51.900085   \n",
       "34510  2013-02-15 21:11:51.900085   \n",
       "34511  2013-02-15 21:11:51.900085   \n",
       "34512  2013-02-15 21:11:51.900085   \n",
       "\n",
       "                                                the_geom            year_date  \n",
       "34503  0101000020E610000059C0046EDDDD2A404963B48EAA4A...  2008-01-01 00:00:00  \n",
       "34504  0101000020E610000059C0046EDDDD2A404963B48EAA4A...  2009-01-01 00:00:00  \n",
       "34505  0101000020E610000059C0046EDDDD2A404963B48EAA4A...  2009-01-01 00:00:00  \n",
       "34506  0101000020E610000059C0046EDDDD2A404963B48EAA4A...  2009-01-01 00:00:00  \n",
       "34507  0101000020E610000059C0046EDDDD2A404963B48EAA4A...  2009-01-01 00:00:00  \n",
       "34508  0101000020E610000059C0046EDDDD2A404963B48EAA4A...  2009-01-01 00:00:00  \n",
       "34509  0101000020E610000059C0046EDDDD2A404963B48EAA4A...  2010-01-01 00:00:00  \n",
       "34510  0101000020E610000059C0046EDDDD2A404963B48EAA4A...  2010-01-01 00:00:00  \n",
       "34511  0101000020E610000059C0046EDDDD2A404963B48EAA4A...  2011-01-01 00:00:00  \n",
       "34512  0101000020E610000059C0046EDDDD2A404963B48EAA4A...  2012-01-01 00:00:00  "
      ]
     },
     "execution_count": 4,
     "metadata": {},
     "output_type": "execute_result"
    }
   ],
   "source": [
    "data.tail(10)"
   ]
  },
  {
   "cell_type": "markdown",
   "id": "904a2c15-377a-4643-8f5f-acd6401ebe25",
   "metadata": {},
   "source": [
    "- We have roughly 34,513 records with 13 attributes each.\n",
    "- `place` is likely a human-readable name for where the meteorite was found.  When `place` has a name like `A-881561` it probably means that it's from Antarctica.  \n",
    "- There are some characters that were replaced with the unicode replacement character �, so cleaning here would be needed.\n",
    "- `mass_g` is the mass of the meteorite in grams.\n",
    "- We notice some redundancy with the `year` and `year_date` attributes.\n",
    "- `cartodb_id` appears to be an id for these records in a database that came from software called Carto which is geographic information systems software.\n",
    "- `created` and `updated` are the dates when the records were created in the database and when they were last updated.\n",
    "- The `fell_found` attribute probably tells us if the meteorite was actually observed falling or just found.\n",
    "- I'm not exactly sure what `the_geom` is, but my guess is that it's some kind of code used in GIS software which has information about the geometry of that particular part of the Earth.  \n",
    "- We also notice that `coordinate_1` and `coordinates_2` have slightly different names which could become annoying."
   ]
  },
  {
   "cell_type": "markdown",
   "id": "0326956f-1a4e-4446-afd7-5d4d4cffc0a9",
   "metadata": {},
   "source": [
    "## What questions can we ask about the data?"
   ]
  },
  {
   "cell_type": "markdown",
   "id": "7771fc12-de83-42ab-bec9-46fc43389e4b",
   "metadata": {},
   "source": [
    "What are the different types of meteorites?"
   ]
  },
  {
   "cell_type": "code",
   "execution_count": 5,
   "id": "6441109e-e2d7-4005-a6a9-14eff3c3a762",
   "metadata": {},
   "outputs": [
    {
     "data": {
      "text/plain": [
       "L6                 6565\n",
       "H5                 5620\n",
       "H4                 3322\n",
       "H6                 3230\n",
       "L5                 2732\n",
       "                   ... \n",
       "LL4/5                 1\n",
       "L3.7-3.9              1\n",
       "Eucrite-an            1\n",
       "C4/5                  1\n",
       "L6-melt breccia       1\n",
       "Name: type_of_meteorite, Length: 398, dtype: int64"
      ]
     },
     "execution_count": 5,
     "metadata": {},
     "output_type": "execute_result"
    }
   ],
   "source": [
    "data['type_of_meteorite'].value_counts()"
   ]
  },
  {
   "cell_type": "markdown",
   "id": "d66b3afb-afc4-4bb5-9bca-74f0f1333102",
   "metadata": {},
   "source": [
    "There's 398 different types of meteorites which seems like a lot.  How many of them only appear once?"
   ]
  },
  {
   "cell_type": "code",
   "execution_count": 6,
   "id": "e4deed10-cc9f-4238-84f7-ccdb290861da",
   "metadata": {},
   "outputs": [],
   "source": [
    "counts = data['type_of_meteorite'].value_counts() == 1"
   ]
  },
  {
   "cell_type": "code",
   "execution_count": 7,
   "id": "890c4b93-8fca-47b5-b719-8f0408017670",
   "metadata": {},
   "outputs": [],
   "source": [
    "count = 0\n",
    "for i in range(len(counts)):\n",
    "    if counts[i] == True:\n",
    "        count+=1\n",
    "        "
   ]
  },
  {
   "cell_type": "code",
   "execution_count": 8,
   "id": "9dbd8137-490c-4f7e-9ec9-4c4ed72e4c34",
   "metadata": {},
   "outputs": [
    {
     "data": {
      "text/plain": [
       "134"
      ]
     },
     "execution_count": 8,
     "metadata": {},
     "output_type": "execute_result"
    }
   ],
   "source": [
    "count"
   ]
  },
  {
   "cell_type": "markdown",
   "id": "e7d1fd7a-9d29-4f1e-ab28-295a4b53b3c5",
   "metadata": {},
   "source": [
    "134 types of meteorites only appear once in the dataset.  This many unique values could pose an issue.  Perhaps there's a way to cluster the types to reduce the number of unique values."
   ]
  },
  {
   "cell_type": "markdown",
   "id": "cb60bd69-7c4f-4065-a6cd-143eefa9b7f8",
   "metadata": {},
   "source": [
    "How many meteorites were found vs observed falling?"
   ]
  },
  {
   "cell_type": "code",
   "execution_count": 9,
   "id": "9ea47a26-ff87-49da-a870-923cf4da3f4b",
   "metadata": {},
   "outputs": [
    {
     "data": {
      "text/plain": [
       "Found                   33148\n",
       "Fell                     1189\n",
       "Age <70 Ma                  4\n",
       "Age <300 Ma                 4\n",
       "Age <500 Ma                 3\n",
       "                        ...  \n",
       "Age 73.3 +/- 5.3 Ma         1\n",
       "Age 500 +/- 20 Ma           1\n",
       "Age 0.25 +/- 0.05 Ma        1\n",
       "Age >160 +/- 10 Ma          1\n",
       "Age 1.07 Ma                 1\n",
       "Name: fell_found, Length: 155, dtype: int64"
      ]
     },
     "execution_count": 9,
     "metadata": {},
     "output_type": "execute_result"
    }
   ],
   "source": [
    "data['fell_found'].value_counts()"
   ]
  },
  {
   "cell_type": "markdown",
   "id": "ed29bafe-44c6-4221-9662-d6019978ffa2",
   "metadata": {},
   "source": [
    "We see that 33,148 meteorites were found while only 1,189 were observed falling.  But those add up to only 34337 and we know that there are 34513 records.  The missing 176 records seem to be taken up by other data approximating how long ago the meteor fell.  This could be cleaned by adding another column called 'age' then moving the 176 records to that column and replacing the original values with 'found'."
   ]
  },
  {
   "cell_type": "markdown",
   "id": "f76d36d5-8619-4ae2-bbc7-c356aacb4216",
   "metadata": {},
   "source": [
    "Are there any missing values in the data?"
   ]
  },
  {
   "cell_type": "code",
   "execution_count": 10,
   "id": "eadf5e24-8a1d-494a-95c1-9b5c52fa56eb",
   "metadata": {},
   "outputs": [
    {
     "data": {
      "text/plain": [
       "place                  0\n",
       "type_of_meteorite      0\n",
       "mass_g                 0\n",
       "fell_found             0\n",
       "year                 347\n",
       "database               0\n",
       "coordinate_1           0\n",
       "coordinates_2          0\n",
       "cartodb_id             0\n",
       "created_at             0\n",
       "updated_at             0\n",
       "the_geom               1\n",
       "year_date            351\n",
       "dtype: int64"
      ]
     },
     "execution_count": 10,
     "metadata": {},
     "output_type": "execute_result"
    }
   ],
   "source": [
    "data.isna().sum()"
   ]
  },
  {
   "cell_type": "markdown",
   "id": "1dd8dc6c-135a-4623-9500-461b56d20fb5",
   "metadata": {},
   "source": [
    "We see 347 missing records for `year`, 351 for `year_date`, and 1 for `the_geom`. "
   ]
  },
  {
   "cell_type": "markdown",
   "id": "3722e433-4f10-48f5-94e5-e2e81d541dc8",
   "metadata": {},
   "source": [
    "We notice that the likely reason for `year_date` attribute having records with `NaN` is because `year` can be a negative number.  This might require some cleaning."
   ]
  },
  {
   "cell_type": "markdown",
   "id": "465c6fdb-afda-409c-8813-4b363643a5ab",
   "metadata": {},
   "source": [
    "What is the record with no entry for `the_geom`?"
   ]
  },
  {
   "cell_type": "code",
   "execution_count": 11,
   "id": "c5312306-9801-4a5e-a0c3-4830f25b9422",
   "metadata": {},
   "outputs": [],
   "source": [
    "geom = data['the_geom'].isna()"
   ]
  },
  {
   "cell_type": "code",
   "execution_count": 12,
   "id": "3c357d64-57b5-44fa-b0e0-3555f01b3725",
   "metadata": {},
   "outputs": [
    {
     "name": "stdout",
     "output_type": "stream",
     "text": [
      "24489\n"
     ]
    }
   ],
   "source": [
    "for i in range(len(geom)):\n",
    "    if geom[i] == True:\n",
    "        print(i)"
   ]
  },
  {
   "cell_type": "code",
   "execution_count": 13,
   "id": "57319c31-f778-4a73-9c87-2268f51ca88e",
   "metadata": {},
   "outputs": [
    {
     "data": {
      "text/plain": [
       "place                                                 Meridiani Planum\n",
       "type_of_meteorite                                    Iron, IAB complex\n",
       "mass_g                                                             0.0\n",
       "fell_found                                                       Found\n",
       "year                                                            2005.0\n",
       "database             http://www.lpi.usra.edu/meteor/metbull.php?cod...\n",
       "coordinate_1                                                  -1.94617\n",
       "coordinates_2                                                354.47333\n",
       "cartodb_id                                                       34470\n",
       "created_at                                  2013-02-15 20:56:02.826333\n",
       "updated_at                                  2013-02-15 21:11:51.900085\n",
       "the_geom                                                           NaN\n",
       "year_date                                          2005-01-01 00:00:00\n",
       "Name: 24489, dtype: object"
      ]
     },
     "execution_count": 13,
     "metadata": {},
     "output_type": "execute_result"
    }
   ],
   "source": [
    "data.iloc[24489]"
   ]
  },
  {
   "cell_type": "markdown",
   "id": "acbaa13d-51da-4730-b029-8f3d99b1a3c1",
   "metadata": {},
   "source": [
    "These are strange coordinates.  After looking at the record in the actual database, this record appears to be from Mars!  "
   ]
  },
  {
   "cell_type": "markdown",
   "id": "c5d1dc49-85b6-46ed-8a6d-d5975119f29e",
   "metadata": {},
   "source": [
    "Here's a quote: \\\n",
    "\"While exploring the remnants of the heat shield on Meridiani Planum, the Mars Exploration Rover (MER) Opportunity imaged the surroundings with its panoramic camera (PanCam). On sol 324, a close-by object with a maximum dimension of 31 cm across became for the first time clearly visible in one of these images. Subsequent PanCam images reveal a smooth rock surface covered by depressions partly reminiscent of regmaglypts.\""
   ]
  },
  {
   "cell_type": "markdown",
   "id": "d9db549b-03a0-4a2d-a345-0918aa60cc03",
   "metadata": {},
   "source": [
    "Let's look at the most common coordinates."
   ]
  },
  {
   "cell_type": "code",
   "execution_count": 14,
   "id": "1d2311de-763a-4698-8530-a198c6103c3f",
   "metadata": {},
   "outputs": [
    {
     "data": {
      "text/plain": [
       "coordinate_1    -72.00000\n",
       "coordinates_2    54.88417\n",
       "dtype: float64"
      ]
     },
     "execution_count": 14,
     "metadata": {},
     "output_type": "execute_result"
    }
   ],
   "source": [
    "data[['coordinate_1','coordinates_2']].median()"
   ]
  },
  {
   "cell_type": "markdown",
   "id": "4f2bd808-4b19-4b0a-a717-9ae5f7d9fbbd",
   "metadata": {},
   "source": [
    "A quick Google search shows that these coordinates are in Anarctica.  I learned in an astronomy class I took that one reason for this is because snow and ice make it easier to find meteorites because they leave impressions in the snow.  This can affect our data because it doesn't necessarily mean that there are more meteorites in Antarctica, just that they're easier to find there."
   ]
  },
  {
   "cell_type": "markdown",
   "id": "9391c0a0-ba44-4d7f-8801-182b25ee1b86",
   "metadata": {},
   "source": [
    "What about the masses of the meteorites?"
   ]
  },
  {
   "cell_type": "code",
   "execution_count": 15,
   "id": "79fac379-eefe-4e85-be00-335c84f88358",
   "metadata": {},
   "outputs": [
    {
     "data": {
      "text/plain": [
       "count    3.451300e+04\n",
       "mean     1.686183e+04\n",
       "std      6.600311e+05\n",
       "min      0.000000e+00\n",
       "25%      5.100000e+00\n",
       "50%      2.419000e+01\n",
       "75%      1.706900e+02\n",
       "max      6.000000e+07\n",
       "Name: mass_g, dtype: float64"
      ]
     },
     "execution_count": 15,
     "metadata": {},
     "output_type": "execute_result"
    }
   ],
   "source": [
    "data['mass_g'].describe()"
   ]
  },
  {
   "cell_type": "markdown",
   "id": "12c2fd1a-6da5-4d62-9559-97af8a67a33c",
   "metadata": {},
   "source": [
    "The largest mass is 60,000kg, and the smallest is 0kg.  The mean is 16.86183kg.  Let's take a closer look at the these records."
   ]
  },
  {
   "cell_type": "code",
   "execution_count": 16,
   "id": "21f6de0b-c42e-4716-b34a-9c0db365d15b",
   "metadata": {},
   "outputs": [
    {
     "data": {
      "text/plain": [
       "place                                                               Ur\n",
       "type_of_meteorite                                                 Iron\n",
       "mass_g                                                             0.0\n",
       "fell_found                                                       Found\n",
       "year                                                           -2500.0\n",
       "database             http://www.lpi.usra.edu/meteor/metbull.php?cod...\n",
       "coordinate_1                                                      30.9\n",
       "coordinates_2                                                 46.01667\n",
       "cartodb_id                                                       34242\n",
       "created_at                                  2013-02-15 20:56:02.826333\n",
       "updated_at                                  2013-02-15 21:04:45.399478\n",
       "the_geom             0101000020E61000008369183E220247406666666666E6...\n",
       "year_date                                                          NaN\n",
       "Name: 0, dtype: object"
      ]
     },
     "execution_count": 16,
     "metadata": {},
     "output_type": "execute_result"
    }
   ],
   "source": [
    "data.loc[data['mass_g'].idxmin()]"
   ]
  },
  {
   "cell_type": "markdown",
   "id": "fe06177c-f1c0-40fb-a7c3-13ac142bc212",
   "metadata": {},
   "source": [
    "A meteorite with no mass is also one of the oldest in the database, and was found in modern day Iraq over 4000 years ago!  "
   ]
  },
  {
   "cell_type": "markdown",
   "id": "c5370c42-5847-41f9-80c1-3972f30d1b15",
   "metadata": {},
   "source": [
    "Are there other records with no recorded mass?"
   ]
  },
  {
   "cell_type": "code",
   "execution_count": 17,
   "id": "0c3140cd-f010-4867-b72e-3acaf9a943ec",
   "metadata": {},
   "outputs": [],
   "source": [
    "no_mass = data['mass_g'] == 0"
   ]
  },
  {
   "cell_type": "code",
   "execution_count": 18,
   "id": "606b989c-2d31-480c-8d9d-ce3681cfebd2",
   "metadata": {},
   "outputs": [
    {
     "name": "stdout",
     "output_type": "stream",
     "text": [
      "448\n"
     ]
    }
   ],
   "source": [
    "zero_mass = 0\n",
    "for i in range(len(no_mass)):\n",
    "    if no_mass[i] == True:\n",
    "        zero_mass += 1\n",
    "print(zero_mass)"
   ]
  },
  {
   "cell_type": "markdown",
   "id": "6a67d963-51a3-4eb5-bd23-9ebb18818ad9",
   "metadata": {},
   "source": [
    "There are 448 records with no measured mass."
   ]
  },
  {
   "cell_type": "markdown",
   "id": "fa7296dd-5762-49e5-8057-9c2420f1dab6",
   "metadata": {},
   "source": [
    "What about the meteorite with the largest mass?"
   ]
  },
  {
   "cell_type": "code",
   "execution_count": 19,
   "id": "0238cad2-123a-4e1a-ae42-000f6f25bd41",
   "metadata": {},
   "outputs": [
    {
     "data": {
      "text/plain": [
       "place                                                             Hoba\n",
       "type_of_meteorite                                            Iron, IVB\n",
       "mass_g                                                      60000000.0\n",
       "fell_found                                                       Found\n",
       "year                                                            1920.0\n",
       "database             http://www.lpi.usra.edu/meteor/metbull.php?cod...\n",
       "coordinate_1                                                 -19.58333\n",
       "coordinates_2                                                 17.91667\n",
       "cartodb_id                                                           1\n",
       "created_at                                  2013-02-15 20:56:02.826333\n",
       "updated_at                                  2013-02-15 21:11:51.900085\n",
       "the_geom             0101000020E61000006D3997E2AAEA314093C6681D5595...\n",
       "year_date                                          1920-01-01 00:00:00\n",
       "Name: 426, dtype: object"
      ]
     },
     "execution_count": 19,
     "metadata": {},
     "output_type": "execute_result"
    }
   ],
   "source": [
    "data.loc[data['mass_g'].idxmax()]"
   ]
  },
  {
   "cell_type": "markdown",
   "id": "31437a3c-ade8-4484-8e0d-cfc8cbd3866b",
   "metadata": {},
   "source": [
    "The meteorite with the largest mass was found in Namibia and is called Hoba.  The Wikipedia article on it notes that it is the most massive naturally occuring piece of iron known on the Earth's surface!"
   ]
  },
  {
   "cell_type": "markdown",
   "id": "491d22e6-7a78-4314-891e-4c9f96e6a32f",
   "metadata": {},
   "source": [
    "What's the meteorite with the most recent `year` ?"
   ]
  },
  {
   "cell_type": "code",
   "execution_count": 20,
   "id": "3ca1ce1b-112f-4450-a2cd-bf7616057ad9",
   "metadata": {
    "tags": []
   },
   "outputs": [
    {
     "data": {
      "text/plain": [
       "place                                                  Battle Mountain\n",
       "type_of_meteorite                                                   L6\n",
       "mass_g                                                          2900.0\n",
       "fell_found                                                        Fell\n",
       "year                                                            2012.0\n",
       "database             http://www.lpi.usra.edu/meteor/metbull.php?cod...\n",
       "coordinate_1                                                  40.66813\n",
       "coordinates_2                                               -117.18913\n",
       "cartodb_id                                                        2300\n",
       "created_at                                  2013-02-15 20:56:02.826333\n",
       "updated_at                                  2013-02-15 21:11:51.900085\n",
       "the_geom             0101000020E6100000522CB7B41A4C5DC0FDBCA9488555...\n",
       "year_date                                          2012-01-01 00:00:00\n",
       "Name: 2711, dtype: object"
      ]
     },
     "execution_count": 20,
     "metadata": {},
     "output_type": "execute_result"
    }
   ],
   "source": [
    "data.loc[data['year'].idxmax()]"
   ]
  },
  {
   "cell_type": "markdown",
   "id": "18f40e95-3f3c-48da-847e-896ef467f24f",
   "metadata": {},
   "source": [
    "According to the database, this meteorite was observed falling in Nevada using the National Weather Service's NEXRAD radar network.  It goes on to discuss the relatively short time it spent in the air, \"This time span of 97 s is short compared to other meteorite falls observed by radar. This could be a result of meteorite production by a single, large breakup event, by relatively little fragmentation, or a combination of the two factors.\""
   ]
  },
  {
   "cell_type": "markdown",
   "id": "071e99fe-5384-4448-84bd-ca8cbc776c81",
   "metadata": {},
   "source": [
    "Let's look at the summary statistics for the categorical data."
   ]
  },
  {
   "cell_type": "code",
   "execution_count": 21,
   "id": "9170617b-7a24-43da-9a98-29dcb53a2e30",
   "metadata": {},
   "outputs": [
    {
     "data": {
      "text/html": [
       "<div>\n",
       "<style scoped>\n",
       "    .dataframe tbody tr th:only-of-type {\n",
       "        vertical-align: middle;\n",
       "    }\n",
       "\n",
       "    .dataframe tbody tr th {\n",
       "        vertical-align: top;\n",
       "    }\n",
       "\n",
       "    .dataframe thead th {\n",
       "        text-align: right;\n",
       "    }\n",
       "</style>\n",
       "<table border=\"1\" class=\"dataframe\">\n",
       "  <thead>\n",
       "    <tr style=\"text-align: right;\">\n",
       "      <th></th>\n",
       "      <th>count</th>\n",
       "      <th>unique</th>\n",
       "      <th>top</th>\n",
       "      <th>freq</th>\n",
       "    </tr>\n",
       "  </thead>\n",
       "  <tbody>\n",
       "    <tr>\n",
       "      <th>place</th>\n",
       "      <td>34513</td>\n",
       "      <td>34513</td>\n",
       "      <td>Ur</td>\n",
       "      <td>1</td>\n",
       "    </tr>\n",
       "    <tr>\n",
       "      <th>type_of_meteorite</th>\n",
       "      <td>34513</td>\n",
       "      <td>398</td>\n",
       "      <td>L6</td>\n",
       "      <td>6565</td>\n",
       "    </tr>\n",
       "    <tr>\n",
       "      <th>fell_found</th>\n",
       "      <td>34513</td>\n",
       "      <td>155</td>\n",
       "      <td>Found</td>\n",
       "      <td>33148</td>\n",
       "    </tr>\n",
       "    <tr>\n",
       "      <th>database</th>\n",
       "      <td>34513</td>\n",
       "      <td>34513</td>\n",
       "      <td>http://www.lpi.usra.edu/meteor/metbull.php?cod...</td>\n",
       "      <td>1</td>\n",
       "    </tr>\n",
       "    <tr>\n",
       "      <th>created_at</th>\n",
       "      <td>34513</td>\n",
       "      <td>1</td>\n",
       "      <td>2013-02-15 20:56:02.826333</td>\n",
       "      <td>34513</td>\n",
       "    </tr>\n",
       "    <tr>\n",
       "      <th>updated_at</th>\n",
       "      <td>34513</td>\n",
       "      <td>3</td>\n",
       "      <td>2013-02-15 21:11:51.900085</td>\n",
       "      <td>34162</td>\n",
       "    </tr>\n",
       "    <tr>\n",
       "      <th>the_geom</th>\n",
       "      <td>34512</td>\n",
       "      <td>17527</td>\n",
       "      <td>0101000020E6100000B79C4B7155D541400000000000E0...</td>\n",
       "      <td>5636</td>\n",
       "    </tr>\n",
       "    <tr>\n",
       "      <th>year_date</th>\n",
       "      <td>34162</td>\n",
       "      <td>312</td>\n",
       "      <td>1979-01-01 00:00:00</td>\n",
       "      <td>3804</td>\n",
       "    </tr>\n",
       "  </tbody>\n",
       "</table>\n",
       "</div>"
      ],
      "text/plain": [
       "                   count unique  \\\n",
       "place              34513  34513   \n",
       "type_of_meteorite  34513    398   \n",
       "fell_found         34513    155   \n",
       "database           34513  34513   \n",
       "created_at         34513      1   \n",
       "updated_at         34513      3   \n",
       "the_geom           34512  17527   \n",
       "year_date          34162    312   \n",
       "\n",
       "                                                                 top   freq  \n",
       "place                                                             Ur      1  \n",
       "type_of_meteorite                                                 L6   6565  \n",
       "fell_found                                                     Found  33148  \n",
       "database           http://www.lpi.usra.edu/meteor/metbull.php?cod...      1  \n",
       "created_at                                2013-02-15 20:56:02.826333  34513  \n",
       "updated_at                                2013-02-15 21:11:51.900085  34162  \n",
       "the_geom           0101000020E6100000B79C4B7155D541400000000000E0...   5636  \n",
       "year_date                                        1979-01-01 00:00:00   3804  "
      ]
     },
     "execution_count": 21,
     "metadata": {},
     "output_type": "execute_result"
    }
   ],
   "source": [
    "data.describe(include='object').T"
   ]
  },
  {
   "cell_type": "markdown",
   "id": "80150598-8f98-4f61-b386-1962e5627d65",
   "metadata": {},
   "source": [
    "We see that it's more common for meteorites to be found than observed falling."
   ]
  },
  {
   "cell_type": "markdown",
   "id": "4c33a549-2d04-41b7-885e-a6ffc3dd87b7",
   "metadata": {},
   "source": [
    "We see that the common type of meteorite is an L6 meteorite.  According to the database, these are low-iron chondrites (stony meteorites) which have homogenous mineral compositions and didn't undergo any melting.  "
   ]
  },
  {
   "cell_type": "markdown",
   "id": "bb998a02-1c72-48d2-994c-3d8cb624671d",
   "metadata": {},
   "source": [
    "We also see that this database was created in 2013 since all the records have the same `created_at` date.  The records have only been updated three times since the creation of the database since there are only 3 unique dates for `updated_at`."
   ]
  },
  {
   "cell_type": "markdown",
   "id": "4131f020-52f2-40bf-8e45-0601611bd25d",
   "metadata": {},
   "source": [
    "The year with the most meteorites was 1979 with 3804 records from that year."
   ]
  },
  {
   "cell_type": "markdown",
   "id": "d36a29ba-3b05-4780-b22b-030b27220e9c",
   "metadata": {},
   "source": [
    "There are 17,527 unique records for `the_geom` attribute, and one appears 5,636 times.  The interpretation of this however is unclear."
   ]
  },
  {
   "cell_type": "markdown",
   "id": "0bd9fd7b-4ea3-4338-a211-9da9cf71b69d",
   "metadata": {},
   "source": [
    "There's 312 unique values for `year_date` out of 34,513 records which isn't what we expect to see."
   ]
  }
 ],
 "metadata": {
  "kernelspec": {
   "display_name": "Python 3 (ipykernel)",
   "language": "python",
   "name": "python3"
  },
  "language_info": {
   "codemirror_mode": {
    "name": "ipython",
    "version": 3
   },
   "file_extension": ".py",
   "mimetype": "text/x-python",
   "name": "python",
   "nbconvert_exporter": "python",
   "pygments_lexer": "ipython3",
   "version": "3.9.7"
  }
 },
 "nbformat": 4,
 "nbformat_minor": 5
}
